{
 "cells": [
  {
   "cell_type": "markdown",
   "metadata": {},
   "source": [
    "# **<ins>K-Medoids</ins>**"
   ]
  },
  {
   "cell_type": "markdown",
   "metadata": {},
   "source": [
    "Clustering is an unsupervised machine learning technique that divides the population or data points into several groups or clusters such that data points in the same groups are more similar to other data points in the same group and dissimilar to the data points in other groups.<br>\n",
    "<b>K-Medoids</b> is a clustering algorithm which is a little bit different from the K-Means technique in terms of the way they select the clusters' centres.<br>\n",
    "We will implement the Partitioning Around Medoids algorithm. It is based on the search for k representative objects or medoids among the observations of the data set.\n",
    "<br>\n",
    "After obtaining a set of k medoids, clusters are constructed by assigning each observation to the nearest medoid. "
   ]
  },
  {
   "cell_type": "markdown",
   "metadata": {},
   "source": [
    "The process is followed with the following steps:\n",
    "- Initialize k clusters in the given data space D.\n",
    "- Randomly choose k objects from n objects in data and assign k objects to k clusters such that each object is assigned to one and only one cluster. Hence, it becomes an initial medoid for each cluster.\n",
    "- For all remaining non-medoid objects, compute the Cost(distance as computed via Euclidean) from all medoids.\n",
    "- Now, Assign each remaining non-medoid object to that cluster whose medoid distance to that object is minimum as compared to other clusters medoid.\n",
    "- Compute the total cost i.e. it is the total sum of all the non-medoid objects distance from its cluster medoid.\n",
    "- Now, swap the object i with medoid j and Repeat the steps to recalculate total cost (as needed). \n",
    "<br><img src=\"https://dinhanhthi.com/img/post/ML/clustering/kmeans-idea.png\" style=\"width:80%\">"
   ]
  },
  {
   "cell_type": "markdown",
   "metadata": {},
   "source": [
    "## Implementation\n",
    "### *Import required libraries* "
   ]
  },
  {
   "cell_type": "code",
   "execution_count": 1,
   "metadata": {},
   "outputs": [],
   "source": [
    "import numpy as np\n",
    "import matplotlib.pyplot as plt  \n",
    "from IPython import embed\n",
    "from copy import deepcopy\n",
    "import time"
   ]
  },
  {
   "cell_type": "markdown",
   "metadata": {},
   "source": [
    "### *Initialization of medoids*\n",
    "<b>select clusters (k) random points out of the n data points (n_samples) as the medoids</b> "
   ]
  },
  {
   "cell_type": "code",
   "execution_count": 2,
   "metadata": {},
   "outputs": [],
   "source": [
    "def _get_init_centers(k, n_samples):\n",
    "    init_ids = []\n",
    "    while len(init_ids) < k:\n",
    "        x = np.random.randint(0,n_samples)\n",
    "        if not x in init_ids:\n",
    "            init_ids.append(x)\n",
    "    return init_ids"
   ]
  },
  {
   "cell_type": "markdown",
   "metadata": {},
   "source": [
    "### *Calculate Euclidean distances*"
   ]
  },
  {
   "cell_type": "code",
   "execution_count": 3,
   "metadata": {},
   "outputs": [],
   "source": [
    "def _get_distance(x1, x2):\n",
    "    #for distance function\n",
    "    return np.sqrt(np.sum((x1 - x2)**2))"
   ]
  },
  {
   "cell_type": "markdown",
   "metadata": {},
   "source": [
    "### *Calculate total cost and cost of each cluster by computing the distance matrix*"
   ]
  },
  {
   "cell_type": "code",
   "execution_count": 4,
   "metadata": {},
   "outputs": [],
   "source": [
    "def _get_cost(X, centres, distance_fun):\n",
    "    \n",
    "    distance_matrix = np.zeros((len(X),len(centres)))\n",
    "    #distance matrix\n",
    "    for j in range(len(centres)):\n",
    "        centre = X[centres[j],:]\n",
    "        for i in range(len(X)):\n",
    "            if i == centres[j]:\n",
    "                distance_matrix[i,j] = 0.\n",
    "            else:\n",
    "                distance_matrix[i,j] = distance_fun(X[i,:], centre)\n",
    "  \n",
    "    mask = np.argmin(distance_matrix,axis=1)\n",
    "    members = np.zeros(len(X))\n",
    "    cost1 = np.zeros(len(centres))\n",
    "    for i in range(len(centres)):\n",
    "        m_id = np.where(mask==i)\n",
    "        members[m_id] = i\n",
    "        cost1[i] = np.sum(distance_matrix[m_id,i])\n",
    "    return members, cost1, np.sum(cost1), distance_matrix"
   ]
  },
  {
   "cell_type": "markdown",
   "metadata": {},
   "source": [
    "### *Swapping and recalculate the clusters*"
   ]
  },
  {
   "cell_type": "code",
   "execution_count": 5,
   "metadata": {},
   "outputs": [],
   "source": [
    "def _kmedoids_run(X, k, distance_fun, max_itr=1000, tol=0.001, verbose=True):\n",
    "    #returns changed centres, distance_matrix and costs\n",
    "    n_samples, n_features = X.shape\n",
    "    init_ids = _get_init_centers(k, n_samples) #get initial centers\n",
    "    if verbose:\n",
    "        print('Initial centers: ', init_ids)\n",
    "    centres = init_ids\n",
    "    members, costs, tCost, distance_matrix = _get_cost(X, init_ids,distance_fun)\n",
    "    cc,swap = 0, True\n",
    "    while True:\n",
    "        swap = False\n",
    "        for i in range(n_samples):\n",
    "            if not i in centres:\n",
    "                for j in range(len(centres)):\n",
    "                    centres1 = deepcopy(centres)\n",
    "                    centres1[j] = i\n",
    "                    m, costs1, tCost1, distMat = _get_cost(X, centres1, distance_fun)\n",
    "                    if tCost1 - tCost < tol:\n",
    "                        members, costs, tCost, distance_matrix = m, costs1, tCost1, distMat\n",
    "                        centres = centres1\n",
    "                        swap = True\n",
    "                        if verbose:\n",
    "                            print ('Centres changed: ', centres)\n",
    "        if cc > max_itr:\n",
    "            if verbose:\n",
    "                print ('End Searching as reached maximum iteration: ', max_itr)\n",
    "            break\n",
    "        if not swap:\n",
    "            if verbose:\n",
    "                print ('End Searching')\n",
    "            break\n",
    "        cc += 1\n",
    "    return centres, members, costs, tCost, distance_matrix"
   ]
  },
  {
   "cell_type": "markdown",
   "metadata": {},
   "source": [
    "#### KMedoids Clustering Info\n",
    "##### Parameters\n",
    "        k  : number of clusters\n",
    "        distance_fun : distance function\n",
    "        max_itr : maximum number of iterations\n",
    "        tol : tolerance\n",
    "##### Attributes\n",
    "        centres :  cluster centres id\n",
    "        costs_  :  array of costs for each cluster\n",
    "        n_itr   :  number of iterations for the best trail\n",
    "##### Methods\n",
    "        fit(X): fit the model\n",
    "             X: 2-D numpy array, size = (n_sample, n_features)\n",
    "        predict(X): to predict cluster id given a test dataset."
   ]
  },
  {
   "cell_type": "code",
   "execution_count": 6,
   "metadata": {},
   "outputs": [],
   "source": [
    "class KMedoids(object):\n",
    "\n",
    "    def __init__(self, k, distance_fun=_get_distance, max_itr=10000, tol=0.0001):\n",
    "        self.k = k\n",
    "        self.distance_fun = distance_fun\n",
    "        self.max_itr = max_itr\n",
    "        self.tol = tol\n",
    "\n",
    "    def fit(self, X,plotit=True, verbose=True):\n",
    "        centres, members, costs,tot_cost, distance_matrix = _kmedoids_run(\n",
    "                X,self.k, self.distance_fun, max_itr=self.max_itr, tol=self.tol,verbose=verbose)\n",
    "        if plotit:  #visualization\n",
    "            fig, ax = plt.subplots(1,1)\n",
    "            colors = ['b','g','r','c','m','y','k']\n",
    "            if self.k > len(colors):\n",
    "                raise ValueError('Add more colors')\n",
    "            \n",
    "            for i in range(len(centres)):\n",
    "                X_c = X[members==i,:]\n",
    "                ax.scatter(X_c[:,0],X_c[:,1],c=colors[i],alpha=0.5,s=30)\n",
    "                ax.scatter(X[centres[i],0],X[centres[i],1], c=colors[i], alpha=1., s=250,marker='*')\n",
    "        return\n",
    "\n",
    "    def predict(self,X):\n",
    "        raise NotImplementedError()"
   ]
  },
  {
   "cell_type": "markdown",
   "metadata": {},
   "source": [
    "### *Run the KMedoids class with an example* "
   ]
  },
  {
   "cell_type": "code",
   "execution_count": 9,
   "metadata": {},
   "outputs": [
    {
     "name": "stdout",
     "output_type": "stream",
     "text": [
      "Initial centers:  [64, 72, 164, 459, 477]\n",
      "Centres changed:  [64, 72, 0, 459, 477]\n",
      "Centres changed:  [1, 72, 0, 459, 477]\n",
      "Centres changed:  [2, 72, 0, 459, 477]\n",
      "Centres changed:  [3, 72, 0, 459, 477]\n",
      "Centres changed:  [5, 72, 0, 459, 477]\n",
      "Centres changed:  [5, 72, 0, 459, 6]\n",
      "Centres changed:  [7, 72, 0, 459, 6]\n",
      "Centres changed:  [10, 72, 0, 459, 6]\n",
      "Centres changed:  [10, 72, 0, 11, 6]\n",
      "Centres changed:  [10, 72, 13, 11, 6]\n",
      "Centres changed:  [14, 72, 13, 11, 6]\n",
      "Centres changed:  [14, 72, 32, 11, 6]\n",
      "Centres changed:  [58, 72, 32, 11, 6]\n",
      "Centres changed:  [58, 72, 32, 11, 59]\n",
      "Centres changed:  [60, 72, 32, 11, 59]\n",
      "Centres changed:  [60, 86, 32, 11, 59]\n",
      "Centres changed:  [60, 184, 32, 11, 59]\n",
      "Centres changed:  [60, 184, 32, 214, 59]\n",
      "Centres changed:  [60, 184, 437, 214, 59]\n",
      "Centres changed:  [60, 439, 437, 214, 59]\n",
      "Centres changed:  [60, 8, 437, 214, 59]\n",
      "Centres changed:  [60, 8, 44, 214, 59]\n",
      "Centres changed:  [60, 119, 44, 214, 59]\n",
      "End Searching\n"
     ]
    },
    {
     "data": {
      "image/png": "[encoded data removed]",
      "text/plain": [
       "<Figure size 432x288 with 1 Axes>"
      ]
     },
     "metadata": {
      "needs_background": "light"
     },
     "output_type": "display_data"
    }
   ],
   "source": [
    "import numpy as np\n",
    "import matplotlib.pyplot as plt\n",
    "\n",
    "def fun(x1, x2):\n",
    "    #demo function\n",
    "    return np.sqrt(np.sum((x1 - x2)**2))\n",
    "\n",
    "if __name__ == '__main__':\n",
    "    X = np.random.normal(0,3,(500,2))  #generates random data points\n",
    "    model = KMedoids(k=5, distance_fun=fun)\n",
    "    model.fit(X, plotit=True, verbose=True)\n",
    "    plt.show()\n",
    "#we are taking the value of k=5"
   ]
  },
  {
   "cell_type": "markdown",
   "metadata": {},
   "source": [
    "From the above plot, we can conclude that 5 clusters are formed where implementation is done with medoid taken as a reference point.\n",
    "PAM is computable costly as it performs clustering on the overall data set.<br>\n",
    "Its time complexity for each iteration is ```O(k*(n-k)^2)```; where n is the number of objects in data and k is the number of clusters."
   ]
  },
  {
   "cell_type": "markdown",
   "metadata": {},
   "source": [
    "## References\n",
    "- https://towardsdatascience.com/understanding-k-means-k-means-and-k-medoids-clustering-algorithms-ad9c9fbf47ca\n",
    "- https://www.geeksforgeeks.org/ml-k-medoids-clustering-with-example/\n"
   ]
  }
 ],
 "metadata": {
  "kernelspec": {
   "display_name": "Python 3",
   "language": "python",
   "name": "python3"
  },
  "language_info": {
   "codemirror_mode": {
    "name": "ipython",
    "version": 3
   },
   "file_extension": ".py",
   "mimetype": "text/x-python",
   "name": "python",
   "nbconvert_exporter": "python",
   "pygments_lexer": "ipython3",
   "version": "3.8.5"
  }
 },
 "nbformat": 4,
 "nbformat_minor": 4
}
